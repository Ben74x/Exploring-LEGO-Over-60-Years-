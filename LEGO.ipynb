{
 "cells": [
  {
   "cell_type": "markdown",
   "metadata": {},
   "source": [
    "# EXPLORING LEGO DATA (OVER 60 YEARS)\n",
    "<p><span style=\"color:black; font-family: 'Bebas Neue'; font-size: 1.3em;\">In this project, we will analyze a dataset on every single lego block that has ever been built.</span></p>\n",
    "<p> <img src= \"datasets\\lego-bricks.png\"></p>"
   ]
  },
  {
   "cell_type": "markdown",
   "metadata": {},
   "source": [
    "# DATA\n",
    "<p><span style=\"color:black; font-family: 'Bebas Neue'; font-size: 1.3em;\">A complete database of lego blocks is provided by <a href=\"https://rebrickable.com/downloads/\">Rebrickable</a>. The data is available as csv files and the representation is shown below.</span></p>\n",
    "<p> <img src=\"https://rebrickable.com/static/img/diagrams/downloads_schema_v3.png\"></p>"
   ]
  },
  {
   "cell_type": "code",
   "execution_count": 136,
   "metadata": {},
   "outputs": [],
   "source": [
    "#Import modules\n",
    "import pandas as pd\n",
    "import matplotlib.pyplot as plt"
   ]
  },
  {
   "cell_type": "markdown",
   "metadata": {},
   "source": [
    "# EXPLORING COLORS\n",
    "<p><span style=\"color:black; font-family: 'Bebas Neue'; font-size: 1.3em;\">Let us start by reading in the colors data to get a sense of the diversity of lego sets.</span></p>\n",
    "<p><span style=\"color:black; font-family: 'Bebas Neue'; font-size: 1.3em;\"><ul>1. <strong>id</strong> - id of color.</ul></span></p>\n",
    "<p><span style=\"color:black; font-family: 'Bebas Neue'; font-size: 1.3em;\"><ul>2. <strong>name</strong> - Name of color.</ul></span></p>\n",
    "<p><span style=\"color:black; font-family: 'Bebas Neue'; font-size: 1.3em;\"><ul>3. <strong>rgb</strong> - RGB color value.</ul></span></p>\n",
    "<p><span style=\"color:black; font-family: 'Bebas Neue'; font-size: 1.3em;\"><ul>4. <strong>is_trans</strong> - True/False statements on the transparency of colors</ul></span></p>"
   ]
  },
  {
   "cell_type": "code",
   "execution_count": 137,
   "metadata": {},
   "outputs": [
    {
     "data": {
      "text/html": [
       "<div>\n",
       "<style scoped>\n",
       "    .dataframe tbody tr th:only-of-type {\n",
       "        vertical-align: middle;\n",
       "    }\n",
       "\n",
       "    .dataframe tbody tr th {\n",
       "        vertical-align: top;\n",
       "    }\n",
       "\n",
       "    .dataframe thead th {\n",
       "        text-align: right;\n",
       "    }\n",
       "</style>\n",
       "<table border=\"1\" class=\"dataframe\">\n",
       "  <thead>\n",
       "    <tr style=\"text-align: right;\">\n",
       "      <th></th>\n",
       "      <th>id</th>\n",
       "      <th>name</th>\n",
       "      <th>rgb</th>\n",
       "      <th>is_trans</th>\n",
       "    </tr>\n",
       "  </thead>\n",
       "  <tbody>\n",
       "    <tr>\n",
       "      <th>0</th>\n",
       "      <td>-1</td>\n",
       "      <td>Unknown</td>\n",
       "      <td>0033B2</td>\n",
       "      <td>f</td>\n",
       "    </tr>\n",
       "    <tr>\n",
       "      <th>1</th>\n",
       "      <td>0</td>\n",
       "      <td>Black</td>\n",
       "      <td>05131D</td>\n",
       "      <td>f</td>\n",
       "    </tr>\n",
       "    <tr>\n",
       "      <th>2</th>\n",
       "      <td>1</td>\n",
       "      <td>Blue</td>\n",
       "      <td>0055BF</td>\n",
       "      <td>f</td>\n",
       "    </tr>\n",
       "    <tr>\n",
       "      <th>3</th>\n",
       "      <td>2</td>\n",
       "      <td>Green</td>\n",
       "      <td>237841</td>\n",
       "      <td>f</td>\n",
       "    </tr>\n",
       "    <tr>\n",
       "      <th>4</th>\n",
       "      <td>3</td>\n",
       "      <td>Dark Turquoise</td>\n",
       "      <td>008F9B</td>\n",
       "      <td>f</td>\n",
       "    </tr>\n",
       "  </tbody>\n",
       "</table>\n",
       "</div>"
      ],
      "text/plain": [
       "   id            name     rgb is_trans\n",
       "0  -1         Unknown  0033B2        f\n",
       "1   0           Black  05131D        f\n",
       "2   1            Blue  0055BF        f\n",
       "3   2           Green  237841        f\n",
       "4   3  Dark Turquoise  008F9B        f"
      ]
     },
     "execution_count": 137,
     "metadata": {},
     "output_type": "execute_result"
    }
   ],
   "source": [
    "#Read colors data\n",
    "colors = pd.read_csv(\"Data-Jupyter\\Exploring 67 years of LEGO\\datasets\\colors.csv\")\n",
    "\n",
    "#Print the first five rows\n",
    "colors.head()"
   ]
  },
  {
   "cell_type": "code",
   "execution_count": 138,
   "metadata": {},
   "outputs": [
    {
     "name": "stdout",
     "output_type": "stream",
     "text": [
      "Dimensionality of color dataframe: (135, 4) \n",
      "\n",
      "Number of duplicates: 0 \n",
      "\n",
      "Data Types\n",
      "----------\n",
      "id           int64\n",
      "name        object\n",
      "rgb         object\n",
      "is_trans    object\n",
      "dtype: object \n",
      "\n",
      "Sum of missing values in each column\n",
      "------------------------------------\n",
      "id          0\n",
      "name        0\n",
      "rgb         0\n",
      "is_trans    0\n",
      "dtype: int64 \n",
      "\n"
     ]
    }
   ],
   "source": [
    "# Check if data is clean\n",
    "print('Dimensionality of color dataframe:', colors.shape, '\\n')\n",
    "print('Number of duplicates:', colors.duplicated().sum(), '\\n')\n",
    "print('Data Types\\n' + '-' *10)\n",
    "print(colors.dtypes, '\\n')\n",
    "print('Sum of missing values in each column\\n' + '-'*36)\n",
    "print(colors.isna().sum(), '\\n')"
   ]
  },
  {
   "cell_type": "code",
   "execution_count": 139,
   "metadata": {},
   "outputs": [
    {
     "name": "stdout",
     "output_type": "stream",
     "text": [
      "The number of distinct colors: 135\n"
     ]
    }
   ],
   "source": [
    "#Distinct colors available\n",
    "num_colors = colors.rgb.size\n",
    "print('The number of distinct colors:', num_colors)"
   ]
  },
  {
   "cell_type": "code",
   "execution_count": 140,
   "metadata": {},
   "outputs": [
    {
     "data": {
      "text/html": [
       "<div>\n",
       "<style scoped>\n",
       "    .dataframe tbody tr th:only-of-type {\n",
       "        vertical-align: middle;\n",
       "    }\n",
       "\n",
       "    .dataframe tbody tr th {\n",
       "        vertical-align: top;\n",
       "    }\n",
       "\n",
       "    .dataframe thead th {\n",
       "        text-align: right;\n",
       "    }\n",
       "</style>\n",
       "<table border=\"1\" class=\"dataframe\">\n",
       "  <thead>\n",
       "    <tr style=\"text-align: right;\">\n",
       "      <th></th>\n",
       "      <th>id</th>\n",
       "      <th>name</th>\n",
       "      <th>rgb</th>\n",
       "    </tr>\n",
       "    <tr>\n",
       "      <th>is_trans</th>\n",
       "      <th></th>\n",
       "      <th></th>\n",
       "      <th></th>\n",
       "    </tr>\n",
       "  </thead>\n",
       "  <tbody>\n",
       "    <tr>\n",
       "      <th>f</th>\n",
       "      <td>107</td>\n",
       "      <td>107</td>\n",
       "      <td>107</td>\n",
       "    </tr>\n",
       "    <tr>\n",
       "      <th>t</th>\n",
       "      <td>28</td>\n",
       "      <td>28</td>\n",
       "      <td>28</td>\n",
       "    </tr>\n",
       "  </tbody>\n",
       "</table>\n",
       "</div>"
      ],
      "text/plain": [
       "           id  name  rgb\n",
       "is_trans                \n",
       "f         107   107  107\n",
       "t          28    28   28"
      ]
     },
     "execution_count": 140,
     "metadata": {},
     "output_type": "execute_result"
    }
   ],
   "source": [
    "#Distribution of colors based on transparency\n",
    "colors_summary = colors.groupby('is_trans').count()\n",
    "colors_summary"
   ]
  },
  {
   "cell_type": "markdown",
   "metadata": {},
   "source": [
    "# EXPLORING LEGO SETS\n",
    "<p><span style=\"color:black; font-family: 'Bebas Neue'; font-size: 1.3em;\">Another interesting dataset available in the database is the <code>sets</code> data. It contains a comprehensive list of sets over the years and the number of parts that each of these sets contained.</span></p> "
   ]
  },
  {
   "cell_type": "code",
   "execution_count": 141,
   "metadata": {},
   "outputs": [
    {
     "name": "stdout",
     "output_type": "stream",
     "text": [
      "  set_num                        name  year  theme_id  num_parts\n",
      "0    00-1             Weetabix Castle  1970       414        471\n",
      "1  0011-2           Town Mini-Figures  1978        84         12\n",
      "2  0011-3  Castle 2 for 1 Bonus Offer  1987       199          2\n",
      "3  0012-1          Space Mini-Figures  1979       143         12\n",
      "4  0013-1          Space Mini-Figures  1979       143         12 \n",
      "\n"
     ]
    }
   ],
   "source": [
    "#Read sets data\n",
    "sets = pd.read_csv(\"Data-Jupyter/Exploring 67 years of LEGO\\datasets\\sets.csv\")\n",
    "\n",
    "#Print the first 5 rows\n",
    "print(sets.head(),\"\\n\")"
   ]
  },
  {
   "cell_type": "code",
   "execution_count": 142,
   "metadata": {},
   "outputs": [
    {
     "name": "stdout",
     "output_type": "stream",
     "text": [
      "Dimensionality of color dataframe: (11866, 5) \n",
      "\n",
      "Number of duplicates: 0 \n",
      "\n",
      "Data Types\n",
      "----------\n",
      "id           int64\n",
      "name        object\n",
      "rgb         object\n",
      "is_trans    object\n",
      "dtype: object \n",
      "\n",
      "Sum of missing values in each column\n",
      "------------------------------------\n",
      "set_num      0\n",
      "name         0\n",
      "year         0\n",
      "theme_id     0\n",
      "num_parts    0\n",
      "dtype: int64 \n",
      "\n"
     ]
    }
   ],
   "source": [
    "# Check if data is clean\n",
    "print('Dimensionality of color dataframe:', sets.shape, '\\n')\n",
    "print('Number of duplicates:', sets.duplicated().sum(), '\\n')\n",
    "print('Data Types\\n' + '-' *10)\n",
    "print(colors.dtypes, '\\n')\n",
    "print('Sum of missing values in each column\\n' + '-'*36)\n",
    "print(sets.isna().sum(), '\\n')"
   ]
  },
  {
   "cell_type": "code",
   "execution_count": 143,
   "metadata": {},
   "outputs": [
    {
     "name": "stdout",
     "output_type": "stream",
     "text": [
      "The total number of sets of all lego blocks made: 11866\n"
     ]
    }
   ],
   "source": [
    "#Total number of sets\n",
    "num_sets = sets.shape[0]\n",
    "print('The total number of sets of all lego blocks made:', num_sets)"
   ]
  },
  {
   "cell_type": "code",
   "execution_count": 144,
   "metadata": {},
   "outputs": [
    {
     "data": {
      "image/png": "[encoded data removed]",
      "text/plain": [
       "<Figure size 432x288 with 1 Axes>"
      ]
     },
     "metadata": {
      "needs_background": "light"
     },
     "output_type": "display_data"
    }
   ],
   "source": [
    "# Summary of average number of parts by year\n",
    "parts_by_year = sets.groupby('year')['num_parts'].mean()\n",
    "\n",
    "# Plot of average number of parts by year\n",
    "plt_parts_B_Y = parts_by_year.plot(kind= 'line', title= 'Average number of lego parts in each set over the years')\n",
    "plt_parts_B_Y.set_xlabel('Year')\n",
    "plt_parts_B_Y.set_ylabel('Average number of parts')\n",
    "plt.show()"
   ]
  },
  {
   "cell_type": "markdown",
   "metadata": {},
   "source": [
    "# LEGO THEMES OVER YEARS\n",
    "<p><span style=\"color:black; font-family: 'Bebas Neue'; font-size: 1.3em;\">Lego blocks ship under multiple themes. Let us try to get a sense of how the number of themes shipped has varied over the years</span></p> "
   ]
  },
  {
   "cell_type": "code",
   "execution_count": 145,
   "metadata": {},
   "outputs": [
    {
     "data": {
      "image/png": "[encoded data removed]",
      "text/plain": [
       "<Figure size 432x288 with 1 Axes>"
      ]
     },
     "metadata": {
      "needs_background": "light"
     },
     "output_type": "display_data"
    }
   ],
   "source": [
    "# Number of themes shipped by year\n",
    "themes_by_year = sets[['year', 'theme_id']].groupby('year', as_index= False).agg({'theme_id': pd.Series.nunique})\n",
    "theme_plt = themes_by_year.plot(kind= 'line', x= 'year', y= 'theme_id', title= 'LEGO themes shipped over 60 years')\n",
    "theme_plt.set_xlabel('Year')\n",
    "theme_plt.set_ylabel('Number of themes shipped')\n",
    "plt.show()"
   ]
  },
  {
   "cell_type": "markdown",
   "metadata": {},
   "source": [
    "# WRAPPING IT ALL UP\n",
    "<p><span style=\"color:black; font-family: 'Bebas Neue'; font-size: 1.3em;\">Lego blocks offer an unlimited amount of fun accross ages. We explored interesting trends around colors, parts and themes. We noticed that, LEGO has become successful and innovative over the years. </span></p> "
   ]
  }
 ],
 "metadata": {
  "kernelspec": {
   "display_name": "Python 3",
   "language": "python",
   "name": "python3"
  },
  "language_info": {
   "codemirror_mode": {
    "name": "ipython",
    "version": 3
   },
   "file_extension": ".py",
   "mimetype": "text/x-python",
   "name": "python",
   "nbconvert_exporter": "python",
   "pygments_lexer": "ipython3",
   "version": "3.7.6"
  }
 },
 "nbformat": 4,
 "nbformat_minor": 4
}
